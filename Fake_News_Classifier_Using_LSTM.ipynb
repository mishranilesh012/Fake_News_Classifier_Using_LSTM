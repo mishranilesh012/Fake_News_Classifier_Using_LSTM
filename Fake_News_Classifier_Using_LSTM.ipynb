{
  "nbformat": 4,
  "nbformat_minor": 0,
  "metadata": {
    "colab": {
      "name": "Fake_News_Classifier_Using_LSTM.ipynb",
      "provenance": [],
      "collapsed_sections": [],
      "toc_visible": true
    },
    "kernelspec": {
      "name": "python3",
      "display_name": "Python 3"
    },
    "accelerator": "GPU"
  },
  "cells": [
    {
      "cell_type": "markdown",
      "metadata": {
        "id": "0t-J5y8A0YbU"
      },
      "source": [
        "## **Fake News Classifier Using LSTM**\r\n",
        "\r\n",
        "Dataset: https://www.kaggle.com/c/fake-news/data#"
      ]
    },
    {
      "cell_type": "code",
      "metadata": {
        "id": "vw7MV2cSzloV"
      },
      "source": [
        "import pandas as pd"
      ],
      "execution_count": 114,
      "outputs": []
    },
    {
      "cell_type": "code",
      "metadata": {
        "id": "z8Xo3Aoj3dIp"
      },
      "source": [
        "df=pd.read_csv('train.csv')"
      ],
      "execution_count": 115,
      "outputs": []
    },
    {
      "cell_type": "code",
      "metadata": {
        "colab": {
          "base_uri": "https://localhost:8080/",
          "height": 224
        },
        "id": "xi1dhGsx9_XJ",
        "outputId": "c3055a06-52c8-4a84-9c25-ef456c32cf55"
      },
      "source": [
        "df.head()"
      ],
      "execution_count": 116,
      "outputs": [
        {
          "output_type": "execute_result",
          "data": {
            "text/html": [
              "<div>\n",
              "<style scoped>\n",
              "    .dataframe tbody tr th:only-of-type {\n",
              "        vertical-align: middle;\n",
              "    }\n",
              "\n",
              "    .dataframe tbody tr th {\n",
              "        vertical-align: top;\n",
              "    }\n",
              "\n",
              "    .dataframe thead th {\n",
              "        text-align: right;\n",
              "    }\n",
              "</style>\n",
              "<table border=\"1\" class=\"dataframe\">\n",
              "  <thead>\n",
              "    <tr style=\"text-align: right;\">\n",
              "      <th></th>\n",
              "      <th>id</th>\n",
              "      <th>title</th>\n",
              "      <th>author</th>\n",
              "      <th>text</th>\n",
              "      <th>label</th>\n",
              "    </tr>\n",
              "  </thead>\n",
              "  <tbody>\n",
              "    <tr>\n",
              "      <th>0</th>\n",
              "      <td>0</td>\n",
              "      <td>House Dem Aide: We Didn’t Even See Comey’s Let...</td>\n",
              "      <td>Darrell Lucus</td>\n",
              "      <td>House Dem Aide: We Didn’t Even See Comey’s Let...</td>\n",
              "      <td>1</td>\n",
              "    </tr>\n",
              "    <tr>\n",
              "      <th>1</th>\n",
              "      <td>1</td>\n",
              "      <td>FLYNN: Hillary Clinton, Big Woman on Campus - ...</td>\n",
              "      <td>Daniel J. Flynn</td>\n",
              "      <td>Ever get the feeling your life circles the rou...</td>\n",
              "      <td>0</td>\n",
              "    </tr>\n",
              "    <tr>\n",
              "      <th>2</th>\n",
              "      <td>2</td>\n",
              "      <td>Why the Truth Might Get You Fired</td>\n",
              "      <td>Consortiumnews.com</td>\n",
              "      <td>Why the Truth Might Get You Fired October 29, ...</td>\n",
              "      <td>1</td>\n",
              "    </tr>\n",
              "    <tr>\n",
              "      <th>3</th>\n",
              "      <td>3</td>\n",
              "      <td>15 Civilians Killed In Single US Airstrike Hav...</td>\n",
              "      <td>Jessica Purkiss</td>\n",
              "      <td>Videos 15 Civilians Killed In Single US Airstr...</td>\n",
              "      <td>1</td>\n",
              "    </tr>\n",
              "    <tr>\n",
              "      <th>4</th>\n",
              "      <td>4</td>\n",
              "      <td>Iranian woman jailed for fictional unpublished...</td>\n",
              "      <td>Howard Portnoy</td>\n",
              "      <td>Print \\nAn Iranian woman has been sentenced to...</td>\n",
              "      <td>1</td>\n",
              "    </tr>\n",
              "  </tbody>\n",
              "</table>\n",
              "</div>"
            ],
            "text/plain": [
              "   id  ... label\n",
              "0   0  ...     1\n",
              "1   1  ...     0\n",
              "2   2  ...     1\n",
              "3   3  ...     1\n",
              "4   4  ...     1\n",
              "\n",
              "[5 rows x 5 columns]"
            ]
          },
          "metadata": {
            "tags": []
          },
          "execution_count": 116
        }
      ]
    },
    {
      "cell_type": "code",
      "metadata": {
        "id": "1F_HO1ai-BIf"
      },
      "source": [
        "###Drop Nan Values\r\n",
        "df = df.dropna()"
      ],
      "execution_count": 117,
      "outputs": []
    },
    {
      "cell_type": "code",
      "metadata": {
        "id": "s04PTmjH-hf6"
      },
      "source": [
        "## Get the Independent Features\r\n",
        "X =df.drop('label',axis=1)"
      ],
      "execution_count": 118,
      "outputs": []
    },
    {
      "cell_type": "code",
      "metadata": {
        "id": "rOfonvyo-xA3"
      },
      "source": [
        "## Get the Dependent features\r\n",
        "y=df['label']"
      ],
      "execution_count": 119,
      "outputs": []
    },
    {
      "cell_type": "code",
      "metadata": {
        "colab": {
          "base_uri": "https://localhost:8080/"
        },
        "id": "mOzNaif3-xw_",
        "outputId": "b6a6fe61-61e1-4a08-abd4-9dd719624fdd"
      },
      "source": [
        "X.shape"
      ],
      "execution_count": 120,
      "outputs": [
        {
          "output_type": "execute_result",
          "data": {
            "text/plain": [
              "(18285, 4)"
            ]
          },
          "metadata": {
            "tags": []
          },
          "execution_count": 120
        }
      ]
    },
    {
      "cell_type": "code",
      "metadata": {
        "colab": {
          "base_uri": "https://localhost:8080/"
        },
        "id": "mMRhIPhK-0X3",
        "outputId": "3b9fd9c4-3429-4851-a35c-cb5d1485978b"
      },
      "source": [
        "y.shape"
      ],
      "execution_count": 121,
      "outputs": [
        {
          "output_type": "execute_result",
          "data": {
            "text/plain": [
              "(18285,)"
            ]
          },
          "metadata": {
            "tags": []
          },
          "execution_count": 121
        }
      ]
    },
    {
      "cell_type": "code",
      "metadata": {
        "id": "JHRXPq2D-1Fb"
      },
      "source": [
        "import tensorflow as tf"
      ],
      "execution_count": 122,
      "outputs": []
    },
    {
      "cell_type": "code",
      "metadata": {
        "colab": {
          "base_uri": "https://localhost:8080/",
          "height": 36
        },
        "id": "vqSJkWte-916",
        "outputId": "8b2bf16e-0b76-4518-fe86-ac063b22ce81"
      },
      "source": [
        "tf.__version__"
      ],
      "execution_count": 123,
      "outputs": [
        {
          "output_type": "execute_result",
          "data": {
            "application/vnd.google.colaboratory.intrinsic+json": {
              "type": "string"
            },
            "text/plain": [
              "'2.3.0'"
            ]
          },
          "metadata": {
            "tags": []
          },
          "execution_count": 123
        }
      ]
    },
    {
      "cell_type": "code",
      "metadata": {
        "id": "r4gvM2Lz_APw"
      },
      "source": [
        "from tensorflow.keras.layers import Embedding\r\n",
        "from tensorflow.keras.preprocessing.sequence import pad_sequences\r\n",
        "from tensorflow.keras.models import Sequential\r\n",
        "from tensorflow.keras.preprocessing.text import one_hot\r\n",
        "from tensorflow.keras.layers import LSTM\r\n",
        "from tensorflow.keras.layers import Dense"
      ],
      "execution_count": 124,
      "outputs": []
    },
    {
      "cell_type": "code",
      "metadata": {
        "id": "YEijYRTx_HO-"
      },
      "source": [
        "### Vocabulary size\r\n",
        "voc_size=5000"
      ],
      "execution_count": 125,
      "outputs": []
    },
    {
      "cell_type": "markdown",
      "metadata": {
        "id": "tZoXInmw_LOH"
      },
      "source": [
        "**One Hot Representation**"
      ]
    },
    {
      "cell_type": "code",
      "metadata": {
        "id": "qth71VSk_JVO"
      },
      "source": [
        "messages=X.copy()"
      ],
      "execution_count": 126,
      "outputs": []
    },
    {
      "cell_type": "code",
      "metadata": {
        "colab": {
          "base_uri": "https://localhost:8080/",
          "height": 36
        },
        "id": "zU7PUhUj_T3u",
        "outputId": "728c79cf-2d5e-4219-bbcd-f264ff58fca3"
      },
      "source": [
        "messages['title'][1]"
      ],
      "execution_count": 127,
      "outputs": [
        {
          "output_type": "execute_result",
          "data": {
            "application/vnd.google.colaboratory.intrinsic+json": {
              "type": "string"
            },
            "text/plain": [
              "'FLYNN: Hillary Clinton, Big Woman on Campus - Breitbart'"
            ]
          },
          "metadata": {
            "tags": []
          },
          "execution_count": 127
        }
      ]
    },
    {
      "cell_type": "code",
      "metadata": {
        "id": "6fUn5m4W_WqP"
      },
      "source": [
        "messages.reset_index(inplace=True) ### as drop NAN values"
      ],
      "execution_count": 128,
      "outputs": []
    },
    {
      "cell_type": "code",
      "metadata": {
        "id": "Z5YNIyTB_dm_"
      },
      "source": [
        "import nltk\r\n",
        "import re\r\n",
        "from nltk.corpus import stopwords"
      ],
      "execution_count": 129,
      "outputs": []
    },
    {
      "cell_type": "code",
      "metadata": {
        "colab": {
          "base_uri": "https://localhost:8080/"
        },
        "id": "YFmTu56c_f22",
        "outputId": "d5c1dec4-aa40-4ba1-fd3d-5f8002c192b4"
      },
      "source": [
        "nltk.download('stopwords')"
      ],
      "execution_count": 130,
      "outputs": [
        {
          "output_type": "stream",
          "text": [
            "[nltk_data] Downloading package stopwords to /root/nltk_data...\n",
            "[nltk_data]   Package stopwords is already up-to-date!\n"
          ],
          "name": "stdout"
        },
        {
          "output_type": "execute_result",
          "data": {
            "text/plain": [
              "True"
            ]
          },
          "metadata": {
            "tags": []
          },
          "execution_count": 130
        }
      ]
    },
    {
      "cell_type": "code",
      "metadata": {
        "id": "PS613C_r_jZo"
      },
      "source": [
        "### Dataset Preprocessing\r\n",
        "from nltk.stem.porter import PorterStemmer\r\n",
        "ps = PorterStemmer()\r\n",
        "corpus = []\r\n",
        "\r\n",
        "for i in range(0,len(messages)):\r\n",
        "  review = re.sub('[^a-zA-B]',' ',messages['title'][i])\r\n",
        "  review = review.lower()\r\n",
        "  review = review.split()\r\n",
        "\r\n",
        "  review = [ps.stem(word) for word in review if not word in stopwords.words('english')]\r\n",
        "  review = ' '.join(review)\r\n",
        "  corpus.append(review)"
      ],
      "execution_count": 131,
      "outputs": []
    },
    {
      "cell_type": "code",
      "metadata": {
        "colab": {
          "base_uri": "https://localhost:8080/",
          "height": 36
        },
        "id": "1bqa2jiPA6xb",
        "outputId": "8da8a0cb-13f1-4390-93f3-4216e1017f58"
      },
      "source": [
        "corpus[1]"
      ],
      "execution_count": 132,
      "outputs": [
        {
          "output_type": "execute_result",
          "data": {
            "application/vnd.google.colaboratory.intrinsic+json": {
              "type": "string"
            },
            "text/plain": [
              "'illari linton big oman ampu breitbart'"
            ]
          },
          "metadata": {
            "tags": []
          },
          "execution_count": 132
        }
      ]
    },
    {
      "cell_type": "code",
      "metadata": {
        "colab": {
          "base_uri": "https://localhost:8080/"
        },
        "id": "ZC8qb20nBC4Z",
        "outputId": "55f23d54-de89-444f-9d74-2e5df010b8c5"
      },
      "source": [
        "onehot_repr = [one_hot(words,voc_size) for words in corpus]\r\n",
        "print(onehot_repr[1])"
      ],
      "execution_count": 133,
      "outputs": [
        {
          "output_type": "stream",
          "text": [
            "[2093, 3737, 1756, 3720, 4844, 4828]\n"
          ],
          "name": "stdout"
        }
      ]
    },
    {
      "cell_type": "markdown",
      "metadata": {
        "id": "DWPQGmTwCVKt"
      },
      "source": [
        "**Embedding Representation**"
      ]
    },
    {
      "cell_type": "code",
      "metadata": {
        "colab": {
          "base_uri": "https://localhost:8080/"
        },
        "id": "i87heBMsBq1f",
        "outputId": "50a2d883-81d0-4e68-9fef-666d76b3c9d1"
      },
      "source": [
        "sent_length=20\r\n",
        "embedded_docs=pad_sequences(onehot_repr,padding='pre',maxlen=sent_length)\r\n",
        "print(embedded_docs)"
      ],
      "execution_count": 134,
      "outputs": [
        {
          "output_type": "stream",
          "text": [
            "[[   0    0    0 ... 1467 2141 1484]\n",
            " [   0    0    0 ... 3720 4844 4828]\n",
            " [   0    0    0 ... 1273 4636 4050]\n",
            " ...\n",
            " [   0    0    0 ... 2690 2730 1596]\n",
            " [   0    0    0 ...  652 2507 4973]\n",
            " [   0    0    0 ... 1275 4635  233]]\n"
          ],
          "name": "stdout"
        }
      ]
    },
    {
      "cell_type": "code",
      "metadata": {
        "colab": {
          "base_uri": "https://localhost:8080/"
        },
        "id": "_EOtFPA8CQBy",
        "outputId": "a6715843-2ccf-470a-f1f9-1aaa6f6a23bf"
      },
      "source": [
        "embedded_docs[0]"
      ],
      "execution_count": 135,
      "outputs": [
        {
          "output_type": "execute_result",
          "data": {
            "text/plain": [
              "array([   0,    0,    0,    0,    0,    0,    0, 3869, 2098, 3415, 3029,\n",
              "       1778, 1778, 1970, 1201,  509, 4430, 1467, 2141, 1484], dtype=int32)"
            ]
          },
          "metadata": {
            "tags": []
          },
          "execution_count": 135
        }
      ]
    },
    {
      "cell_type": "code",
      "metadata": {
        "colab": {
          "base_uri": "https://localhost:8080/"
        },
        "id": "_-HPuxRmCgey",
        "outputId": "a70b224f-a4c6-4cfe-c0cb-857e2bd1b3b4"
      },
      "source": [
        "## Creating model\r\n",
        "embedding_vector_features=40\r\n",
        "model=Sequential()\r\n",
        "model.add(Embedding(voc_size,embedding_vector_features,input_length=sent_length))\r\n",
        "model.add(LSTM(100)) ### 1 LSTM Layer with 100 neurons\r\n",
        "model.add(Dense(1,activation='sigmoid'))\r\n",
        "model.compile(loss='binary_crossentropy',optimizer='adam',metrics=['accuracy'])\r\n",
        "print(model.summary())"
      ],
      "execution_count": 136,
      "outputs": [
        {
          "output_type": "stream",
          "text": [
            "Model: \"sequential_8\"\n",
            "_________________________________________________________________\n",
            "Layer (type)                 Output Shape              Param #   \n",
            "=================================================================\n",
            "embedding_8 (Embedding)      (None, 20, 40)            200000    \n",
            "_________________________________________________________________\n",
            "lstm_8 (LSTM)                (None, 100)               56400     \n",
            "_________________________________________________________________\n",
            "dense_8 (Dense)              (None, 1)                 101       \n",
            "=================================================================\n",
            "Total params: 256,501\n",
            "Trainable params: 256,501\n",
            "Non-trainable params: 0\n",
            "_________________________________________________________________\n",
            "None\n"
          ],
          "name": "stdout"
        }
      ]
    },
    {
      "cell_type": "code",
      "metadata": {
        "colab": {
          "base_uri": "https://localhost:8080/"
        },
        "id": "d4iLNfaRCzBm",
        "outputId": "b2f8755e-9017-44e0-86b4-fd3d926357fb"
      },
      "source": [
        "len(embedded_docs),y.shape"
      ],
      "execution_count": 137,
      "outputs": [
        {
          "output_type": "execute_result",
          "data": {
            "text/plain": [
              "(18285, (18285,))"
            ]
          },
          "metadata": {
            "tags": []
          },
          "execution_count": 137
        }
      ]
    },
    {
      "cell_type": "code",
      "metadata": {
        "id": "3kbqOGOHC3vv"
      },
      "source": [
        "import numpy as np\r\n",
        "X_final=np.array(embedded_docs)\r\n",
        "y_final=np.array(y)"
      ],
      "execution_count": 138,
      "outputs": []
    },
    {
      "cell_type": "code",
      "metadata": {
        "colab": {
          "base_uri": "https://localhost:8080/"
        },
        "id": "QiCUcSvFC9QD",
        "outputId": "b83c65cd-b3c8-46fc-a8d3-ba21eb4f2451"
      },
      "source": [
        "X_final.shape,y_final.shape"
      ],
      "execution_count": 139,
      "outputs": [
        {
          "output_type": "execute_result",
          "data": {
            "text/plain": [
              "((18285, 20), (18285,))"
            ]
          },
          "metadata": {
            "tags": []
          },
          "execution_count": 139
        }
      ]
    },
    {
      "cell_type": "code",
      "metadata": {
        "id": "h93lwBYfC_Iv"
      },
      "source": [
        "from sklearn.model_selection import train_test_split\r\n",
        "X_train, X_test, y_train, y_test = train_test_split(X_final, y_final, test_size=0.33, random_state=42)"
      ],
      "execution_count": 140,
      "outputs": []
    },
    {
      "cell_type": "markdown",
      "metadata": {
        "id": "kvZJUODaDDbd"
      },
      "source": [
        "**Model Training**"
      ]
    },
    {
      "cell_type": "code",
      "metadata": {
        "colab": {
          "base_uri": "https://localhost:8080/"
        },
        "id": "sT5jAVOODBVS",
        "outputId": "cb3aeaea-341c-4b45-b37e-4f8b46f55ba3"
      },
      "source": [
        "### Finally Training\r\n",
        "model.fit(X_train,y_train,validation_data=(X_test,y_test),epochs=10,batch_size=64)"
      ],
      "execution_count": 141,
      "outputs": [
        {
          "output_type": "stream",
          "text": [
            "Epoch 1/10\n",
            "192/192 [==============================] - 2s 10ms/step - loss: 0.3263 - accuracy: 0.8500 - val_loss: 0.1826 - val_accuracy: 0.9259\n",
            "Epoch 2/10\n",
            "192/192 [==============================] - 2s 8ms/step - loss: 0.1300 - accuracy: 0.9504 - val_loss: 0.1771 - val_accuracy: 0.9284\n",
            "Epoch 3/10\n",
            "192/192 [==============================] - 2s 8ms/step - loss: 0.0958 - accuracy: 0.9661 - val_loss: 0.1998 - val_accuracy: 0.9264\n",
            "Epoch 4/10\n",
            "192/192 [==============================] - 2s 8ms/step - loss: 0.0690 - accuracy: 0.9764 - val_loss: 0.2385 - val_accuracy: 0.9233\n",
            "Epoch 5/10\n",
            "192/192 [==============================] - 2s 8ms/step - loss: 0.0517 - accuracy: 0.9825 - val_loss: 0.2791 - val_accuracy: 0.9223\n",
            "Epoch 6/10\n",
            "192/192 [==============================] - 2s 8ms/step - loss: 0.0375 - accuracy: 0.9868 - val_loss: 0.2994 - val_accuracy: 0.9123\n",
            "Epoch 7/10\n",
            "192/192 [==============================] - 2s 8ms/step - loss: 0.0250 - accuracy: 0.9923 - val_loss: 0.3827 - val_accuracy: 0.9140\n",
            "Epoch 8/10\n",
            "192/192 [==============================] - 2s 8ms/step - loss: 0.0155 - accuracy: 0.9953 - val_loss: 0.4394 - val_accuracy: 0.9181\n",
            "Epoch 9/10\n",
            "192/192 [==============================] - 2s 8ms/step - loss: 0.0123 - accuracy: 0.9962 - val_loss: 0.4122 - val_accuracy: 0.9115\n",
            "Epoch 10/10\n",
            "192/192 [==============================] - 2s 8ms/step - loss: 0.0102 - accuracy: 0.9961 - val_loss: 0.4872 - val_accuracy: 0.9140\n"
          ],
          "name": "stdout"
        },
        {
          "output_type": "execute_result",
          "data": {
            "text/plain": [
              "<tensorflow.python.keras.callbacks.History at 0x7f67bae1bf98>"
            ]
          },
          "metadata": {
            "tags": []
          },
          "execution_count": 141
        }
      ]
    },
    {
      "cell_type": "markdown",
      "metadata": {
        "id": "2vbcaS0LDhNW"
      },
      "source": [
        "**Adding Dropout**"
      ]
    },
    {
      "cell_type": "code",
      "metadata": {
        "id": "cdZGwt-SDIif"
      },
      "source": [
        "from tensorflow.keras.layers import Dropout\r\n",
        "## Creating model\r\n",
        "embedding_vector_features=40\r\n",
        "model=Sequential()\r\n",
        "model.add(Embedding(voc_size,embedding_vector_features,input_length=sent_length))\r\n",
        "model.add(Dropout(0.5))\r\n",
        "model.add(LSTM(100))\r\n",
        "model.add(Dropout(0.5))\r\n",
        "model.add(Dense(1,activation='sigmoid'))\r\n",
        "model.compile(loss='binary_crossentropy',optimizer='adam',metrics=['accuracy'])"
      ],
      "execution_count": 142,
      "outputs": []
    },
    {
      "cell_type": "markdown",
      "metadata": {
        "id": "hGTw7rQ8Du4q"
      },
      "source": [
        "**Performance Metrics And Accuracy**"
      ]
    },
    {
      "cell_type": "code",
      "metadata": {
        "id": "XzQ1yqfwDrwL"
      },
      "source": [
        "y_pred=model.predict_classes(X_test)"
      ],
      "execution_count": 143,
      "outputs": []
    },
    {
      "cell_type": "code",
      "metadata": {
        "id": "p1_7zRpaDy7Y"
      },
      "source": [
        "from sklearn.metrics import confusion_matrix"
      ],
      "execution_count": 144,
      "outputs": []
    },
    {
      "cell_type": "code",
      "metadata": {
        "colab": {
          "base_uri": "https://localhost:8080/"
        },
        "id": "WYr6wmYBEqW0",
        "outputId": "df52a6d9-cb03-4da4-bfb0-360ed75e360c"
      },
      "source": [
        "confusion_matrix(y_test,y_pred)"
      ],
      "execution_count": 145,
      "outputs": [
        {
          "output_type": "execute_result",
          "data": {
            "text/plain": [
              "array([[3145,  274],\n",
              "       [ 245, 2371]])"
            ]
          },
          "metadata": {
            "tags": []
          },
          "execution_count": 145
        }
      ]
    },
    {
      "cell_type": "code",
      "metadata": {
        "colab": {
          "base_uri": "https://localhost:8080/"
        },
        "id": "-rGa3uDyEsRx",
        "outputId": "5fdbe1f4-cc0a-4210-acf2-88da1cc1ff3e"
      },
      "source": [
        "from sklearn.metrics import accuracy_score\r\n",
        "accuracy_score(y_test,y_pred)"
      ],
      "execution_count": 146,
      "outputs": [
        {
          "output_type": "execute_result",
          "data": {
            "text/plain": [
              "0.9140016570008285"
            ]
          },
          "metadata": {
            "tags": []
          },
          "execution_count": 146
        }
      ]
    },
    {
      "cell_type": "code",
      "metadata": {
        "colab": {
          "base_uri": "https://localhost:8080/"
        },
        "id": "fXaJIJ5sEul2",
        "outputId": "efa7c5a2-e476-4918-dd67-37e0a1c2e8a3"
      },
      "source": [
        "!mkdir -p saved_model\r\n",
        "model.save('saved_model/my_model')"
      ],
      "execution_count": 147,
      "outputs": [
        {
          "output_type": "stream",
          "text": [
            "WARNING:tensorflow:From /usr/local/lib/python3.6/dist-packages/tensorflow/python/training/tracking/tracking.py:111: Model.state_updates (from tensorflow.python.keras.engine.training) is deprecated and will be removed in a future version.\n",
            "Instructions for updating:\n",
            "This property should not be used in TensorFlow 2.0, as updates are applied automatically.\n",
            "WARNING:tensorflow:From /usr/local/lib/python3.6/dist-packages/tensorflow/python/training/tracking/tracking.py:111: Layer.updates (from tensorflow.python.keras.engine.base_layer) is deprecated and will be removed in a future version.\n",
            "Instructions for updating:\n",
            "This property should not be used in TensorFlow 2.0, as updates are applied automatically.\n",
            "INFO:tensorflow:Assets written to: saved_model/my_model/assets\n"
          ],
          "name": "stdout"
        }
      ]
    },
    {
      "cell_type": "code",
      "metadata": {
        "colab": {
          "base_uri": "https://localhost:8080/"
        },
        "id": "ApimnW_9FqEq",
        "outputId": "c14400a4-541c-4b95-f28b-47bc891a0651"
      },
      "source": [
        "new_model = tf.keras.models.load_model('saved_model/my_model')\r\n",
        "\r\n",
        "# Check its architecture\r\n",
        "new_model.summary()"
      ],
      "execution_count": 148,
      "outputs": [
        {
          "output_type": "stream",
          "text": [
            "Model: \"sequential_8\"\n",
            "_________________________________________________________________\n",
            "Layer (type)                 Output Shape              Param #   \n",
            "=================================================================\n",
            "embedding_8 (Embedding)      (None, 20, 40)            200000    \n",
            "_________________________________________________________________\n",
            "lstm_8 (LSTM)                (None, 100)               56400     \n",
            "_________________________________________________________________\n",
            "dense_8 (Dense)              (None, 1)                 101       \n",
            "=================================================================\n",
            "Total params: 256,501\n",
            "Trainable params: 256,501\n",
            "Non-trainable params: 0\n",
            "_________________________________________________________________\n"
          ],
          "name": "stdout"
        }
      ]
    },
    {
      "cell_type": "code",
      "metadata": {
        "id": "2JwZOmyCF3OL"
      },
      "source": [
        ""
      ],
      "execution_count": null,
      "outputs": []
    }
  ]
}